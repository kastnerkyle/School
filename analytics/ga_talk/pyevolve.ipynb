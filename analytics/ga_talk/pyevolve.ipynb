{
 "metadata": {
  "name": ""
 },
 "nbformat": 3,
 "nbformat_minor": 0,
 "worksheets": [
  {
   "cells": [
    {
     "cell_type": "code",
     "collapsed": false,
     "input": [
      "#Uncomment to install pyevolve\n",
      "#!pip install https://github.com/perone/Pyevolve/archive/master.zip"
     ],
     "language": "python",
     "metadata": {},
     "outputs": [],
     "prompt_number": 74
    },
    {
     "cell_type": "code",
     "collapsed": false,
     "input": [
      "#!/usr/bin/python\n",
      "from pyevolve import GenomeBase, Mutators, Crossovers\n",
      "from random import shuffle\n",
      "import numpy as np\n",
      "import math\n",
      "BORDER = 4\n",
      "NQUEENS = BORDER\n",
      "\n",
      "class nqueens(GenomeBase.GenomeBase):\n",
      "    def __init__(self, size):\n",
      "        GenomeBase.GenomeBase.__init__(self)\n",
      "        self.size_ = size\n",
      "        self.ndarray_ = np.zeros((self.size_,self.size_))\n",
      "        self.initializator.set(self._initializator)\n",
      "        self.mutator.set(self._mutator)\n",
      "        self.crossover.set(self._crossover)\n",
      "        self.evaluator.set(self._evaluator)\n",
      "    \n",
      "        \n",
      "    def _initializator(self, i, **args):\n",
      "        i.ndarray_ = np.eye(self.size_)\n",
      "        map(np.random.shuffle, i.ndarray_)\n",
      "        \n",
      "    \n",
      "    def _mutator(self, i, **args):\n",
      "        map(np.random.shuffle, i.ndarray_)\n",
      "        return 1\n",
      "    \n",
      "    def _crossover(self, i, **args):\n",
      "        return i\n",
      "    \n",
      "    \n",
      "    def _evaluator(self, i, **args):\n",
      "        if i.ndarray_.sum().sum() < NQUEENS:\n",
      "            return NQUEENS**2\n",
      "        \n",
      "        score = 0\n",
      "        score += max(i.ndarray_.sum(axis=0)) + max(i.ndarray_.sum(axis=1)) - 2\n",
      "        def all_trace(arr):\n",
      "            return sum(map(lambda x: arr.trace(x), range(i.size_-1)))\n",
      "        score += all_trace(i.ndarray_)\n",
      "        score += all_trace(np.fliplr(i.ndarray_))\n",
      "        return score\n",
      "    \n",
      "    \n",
      "    def copy(self, i):\n",
      "        GenomeBase.GenomeBase.copy(self, i)\n",
      "        i.size_ = self.size_\n",
      "        i.ndarray = self.ndarray_.copy()\n",
      "        \n",
      "    \n",
      "    def clone(self):\n",
      "        new = nqueens(self.size_)\n",
      "        self.copy(new)\n",
      "        return new\n",
      "\n",
      "    \n",
      "def main_func():\n",
      "    n = nqueens(BORDER)\n",
      "    n.setParams(bestrawscore=0., rounddecimal=2)\n",
      "    \n",
      "    ga = GSimpleGA.GSimpleGA(n)\n",
      "    ga.terminationCriteria.set(GSimpleGA.RawScoreCriteria)\n",
      "    ga.setMinimax(Consts.minimaxType[\"minimize\"])\n",
      "    \n",
      "    ga.setPopulationSize(100)\n",
      "    ga.setGenerations(1E3)\n",
      "    ga.setMutationRate(0.02)\n",
      "    ga.setCrossoverRate(.0)\n",
      "    \n",
      "    ga.evolve(freq_stats=100)\n",
      "    \n",
      "    best = ga.bestIndividual()\n",
      "    print best\n",
      "    print \"\"\n",
      "    print \"Best individual score:\",best.score\n",
      "      \n",
      "    print \"Best individual score : %.2f\\n\" %(best.getRawScore())\n",
      "    print best.ndarray_\n",
      "\n",
      "if __name__ == \"__main__\":\n",
      "    main_func()"
     ],
     "language": "python",
     "metadata": {},
     "outputs": [
      {
       "output_type": "stream",
       "stream": "stdout",
       "text": [
        "Gen. 0 (0.00%):"
       ]
      },
      {
       "output_type": "stream",
       "stream": "stdout",
       "text": [
        " Max/Min/Avg Fitness(Raw) [6.61(8.00)/4.40(3.00)/5.51(5.51)]\n",
        "Gen. 100 (10.00%):"
       ]
      },
      {
       "output_type": "stream",
       "stream": "stdout",
       "text": [
        " Max/Min/Avg Fitness(Raw) [16.03(16.00)/0.00(3.00)/15.87(15.87)]\n",
        "Gen. 200 (20.00%):"
       ]
      },
      {
       "output_type": "stream",
       "stream": "stdout",
       "text": [
        " Max/Min/Avg Fitness(Raw) [16.03(16.00)/0.00(3.00)/15.87(15.87)]\n",
        "Gen. 300 (30.00%):"
       ]
      },
      {
       "output_type": "stream",
       "stream": "stdout",
       "text": [
        " Max/Min/Avg Fitness(Raw) [16.03(16.00)/0.00(3.00)/15.87(15.87)]\n",
        "Gen. 400 (40.00%):"
       ]
      },
      {
       "output_type": "stream",
       "stream": "stdout",
       "text": [
        " Max/Min/Avg Fitness(Raw) [16.03(16.00)/0.00(3.00)/15.87(15.87)]\n",
        "Gen. 500 (50.00%):"
       ]
      },
      {
       "output_type": "stream",
       "stream": "stdout",
       "text": [
        " Max/Min/Avg Fitness(Raw) [16.03(16.00)/0.00(3.00)/15.87(15.87)]\n",
        "Gen. 600 (60.00%):"
       ]
      },
      {
       "output_type": "stream",
       "stream": "stdout",
       "text": [
        " Max/Min/Avg Fitness(Raw) [16.03(16.00)/0.00(3.00)/15.87(15.87)]\n",
        "Gen. 700 (70.00%):"
       ]
      },
      {
       "output_type": "stream",
       "stream": "stdout",
       "text": [
        " Max/Min/Avg Fitness(Raw) [16.03(16.00)/0.00(3.00)/15.87(15.87)]\n",
        "Gen. 800 (80.00%):"
       ]
      },
      {
       "output_type": "stream",
       "stream": "stdout",
       "text": [
        " Max/Min/Avg Fitness(Raw) [16.03(16.00)/0.00(3.00)/15.87(15.87)]\n",
        "Gen. 900 (90.00%):"
       ]
      },
      {
       "output_type": "stream",
       "stream": "stdout",
       "text": [
        " Max/Min/Avg Fitness(Raw) [16.03(16.00)/0.00(3.00)/15.87(15.87)]\n",
        "Gen. 1000 (100.00%):"
       ]
      },
      {
       "output_type": "stream",
       "stream": "stdout",
       "text": [
        " Max/Min/Avg Fitness(Raw) [16.03(16.00)/0.00(3.00)/15.87(15.87)]\n",
        "Total time elapsed: 9.771 seconds.\n",
        "- GenomeBase\n",
        "\tScore:\t\t\t 3.000000\n",
        "\tFitness:\t\t 0.000000\n",
        "\n",
        "\tParams:\t\t {'rounddecimal': 2, 'bestrawscore': 0.0}\n",
        "\n",
        "\tSlot [Evaluator] (Count: 1)\n",
        "\t\tName: _evaluator - Weight: 0.50\n",
        "\tSlot [Initializator] (Count: 1)\n",
        "\t\tName: _initializator - Weight: 0.50\n",
        "\tSlot [Mutator] (Count: 1)\n",
        "\t\tName: _mutator - Weight: 0.50\n",
        "\tSlot [Crossover] (Count: 1)\n",
        "\t\tName: _crossover - Weight: 0.50\n",
        "\n",
        "\n",
        "\n",
        "Best individual score: 3.0\n",
        "Best individual score : 3.00\n",
        "\n",
        "[[ 1.  0.  0.  0.]\n",
        " [ 0.  0.  0.  1.]\n",
        " [ 0.  1.  0.  0.]\n",
        " [ 0.  0.  1.  0.]]\n"
       ]
      }
     ],
     "prompt_number": 137
    },
    {
     "cell_type": "code",
     "collapsed": false,
     "input": [],
     "language": "python",
     "metadata": {},
     "outputs": []
    }
   ],
   "metadata": {}
  }
 ]
}