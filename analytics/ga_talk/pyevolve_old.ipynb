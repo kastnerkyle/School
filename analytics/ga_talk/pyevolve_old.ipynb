{
 "metadata": {
  "name": ""
 },
 "nbformat": 3,
 "nbformat_minor": 0,
 "worksheets": [
  {
   "cells": [
    {
     "cell_type": "code",
     "collapsed": false,
     "input": [
      " #!/usr/bin/python\n",
      "from pyevolve import *\n",
      "from random import shuffle\n",
      "import math\n",
      "BORDER = 8\n",
      "NQUEENS = BORDER\n",
      "BOARD_SIZE = pow(BORDER, 2)\n",
      "\n",
      "def queens_func(genome):\n",
      "    if sum(genome) < BORDER:\n",
      "        return BOARD_SIZE\n",
      "    array = map( lambda x: list(genome[x::BORDER]), range(BORDER))\n",
      "    cols = array\n",
      "    rows = map(list, zip(*array))\n",
      "    rows_ints = []\n",
      "   \n",
      "    for row in rows:\n",
      "        rows_ints.append(int(''.join(map(str, row)), 2))\n",
      "        rows_ints = map( lambda x: int(math.log(x,2)) if x !=0 else x, rows_ints)\n",
      "        diags = filter( lambda x: x==1, map( lambda i,j: abs(i-j), rows_ints[1:], rows_ints[:-1]))\n",
      "    return max(map(sum, rows)) + max(map(sum, cols)) - 2 + sum(diags)\n",
      "\n",
      "def queens_init(genome, **args):\n",
      "    genome.genomeList = [1]*NQUEENS + [0]*(BOARD_SIZE-NQUEENS)\n",
      "    shuffle(genome.genomeList)\n",
      "\n",
      "def main_func():\n",
      "    genome = G1DList.G1DList(BOARD_SIZE)\n",
      "    genome.setParams(bestrawscore=0, rounddecimal=2)\n",
      "    genome.initializator.set(queens_init)\n",
      "    genome.mutator.set(Mutators.G1DListMutatorSwap)\n",
      "    genome.crossover.set(Crossovers.G1DListCrossoverCutCrossfill)\n",
      "    genome.evaluator.set(queens_func)\n",
      "    ga = GSimpleGA.GSimpleGA(genome)\n",
      "    ga.terminationCriteria.set(GSimpleGA.RawScoreCriteria)\n",
      "    ga.setMinimax(Consts.minimaxType[\"minimize\"])\n",
      "    ga.setPopulationSize(100)\n",
      "    ga.setGenerations(1E2)\n",
      "    ga.setMutationRate(0.02)\n",
      "    ga.setCrossoverRate(1.0)\n",
      "    #vpython_adapter = DBAdapters.DBVPythonGraph(identify=\"queens\", frequency=1)\n",
      "    #ga.setDBAdapter(vpython_adapter)\n",
      "    ga.evolve(freq_stats=1000)\n",
      "    best = ga.bestIndividual()\n",
      "    print best\n",
      "    for i in map(lambda x: list(best[x::BORDER]), range(BORDER)):\n",
      "        print i\n",
      "      \n",
      "    print \"Best individual score : %.2f\\n\" %(best.getRawScore())\n",
      "if __name__ == \"__main__\":\n",
      "    main_func()"
     ],
     "language": "python",
     "metadata": {},
     "outputs": [
      {
       "output_type": "stream",
       "stream": "stdout",
       "text": [
        " Max/Min/Avg Fitness(Raw) [64.00(64.00)/64.00(64.00)/64.00(64.00)]\n",
        "Gen. 100 (10.00%):"
       ]
      },
      {
       "output_type": "stream",
       "stream": "stdout",
       "text": [
        " Max/Min/Avg Fitness(Raw) [64.00(64.00)/64.00(64.00)/64.00(64.00)]\n",
        "Gen. 150 (15.00%):"
       ]
      },
      {
       "output_type": "stream",
       "stream": "stdout",
       "text": [
        " Max/Min/Avg Fitness(Raw) [64.00(64.00)/64.00(64.00)/64.00(64.00)]\n",
        "Gen. 200 (20.00%):"
       ]
      },
      {
       "output_type": "stream",
       "stream": "stdout",
       "text": [
        " Max/Min/Avg Fitness(Raw) [64.00(64.00)/64.00(64.00)/64.00(64.00)]\n",
        "Gen. 250 (25.00%):"
       ]
      },
      {
       "output_type": "stream",
       "stream": "stdout",
       "text": [
        " Max/Min/Avg Fitness(Raw) [64.00(64.00)/64.00(64.00)/64.00(64.00)]\n",
        "Gen. 300 (30.00%):"
       ]
      },
      {
       "output_type": "stream",
       "stream": "stdout",
       "text": [
        " Max/Min/Avg Fitness(Raw) [64.00(64.00)/64.00(64.00)/64.00(64.00)]\n",
        "Gen. 350 (35.00%):"
       ]
      },
      {
       "output_type": "stream",
       "stream": "stdout",
       "text": [
        " Max/Min/Avg Fitness(Raw) [64.00(64.00)/64.00(64.00)/64.00(64.00)]\n",
        "Gen. 400 (40.00%):"
       ]
      },
      {
       "output_type": "stream",
       "stream": "stdout",
       "text": [
        " Max/Min/Avg Fitness(Raw) [64.00(64.00)/64.00(64.00)/64.00(64.00)]\n",
        "Gen. 450 (45.00%):"
       ]
      },
      {
       "output_type": "stream",
       "stream": "stdout",
       "text": [
        " Max/Min/Avg Fitness(Raw) [64.00(64.00)/64.00(64.00)/64.00(64.00)]\n",
        "Gen. 500 (50.00%):"
       ]
      },
      {
       "output_type": "stream",
       "stream": "stdout",
       "text": [
        " Max/Min/Avg Fitness(Raw) [64.00(64.00)/64.00(64.00)/64.00(64.00)]\n",
        "Gen. 550 (55.00%):"
       ]
      },
      {
       "output_type": "stream",
       "stream": "stdout",
       "text": [
        " Max/Min/Avg Fitness(Raw) [64.00(64.00)/64.00(64.00)/64.00(64.00)]\n",
        "Gen. 600 (60.00%):"
       ]
      },
      {
       "output_type": "stream",
       "stream": "stdout",
       "text": [
        " Max/Min/Avg Fitness(Raw) [64.00(64.00)/64.00(64.00)/64.00(64.00)]\n",
        "Gen. 650 (65.00%):"
       ]
      },
      {
       "output_type": "stream",
       "stream": "stdout",
       "text": [
        " Max/Min/Avg Fitness(Raw) [64.00(64.00)/64.00(64.00)/64.00(64.00)]\n",
        "Gen. 700 (70.00%):"
       ]
      },
      {
       "output_type": "stream",
       "stream": "stdout",
       "text": [
        " Max/Min/Avg Fitness(Raw) [64.00(64.00)/64.00(64.00)/64.00(64.00)]\n",
        "Gen. 750 (75.00%):"
       ]
      },
      {
       "output_type": "stream",
       "stream": "stdout",
       "text": [
        " Max/Min/Avg Fitness(Raw) [64.00(64.00)/64.00(64.00)/64.00(64.00)]\n",
        "Gen. 800 (80.00%):"
       ]
      },
      {
       "output_type": "stream",
       "stream": "stdout",
       "text": [
        " Max/Min/Avg Fitness(Raw) [64.00(64.00)/64.00(64.00)/64.00(64.00)]\n",
        "Gen. 850 (85.00%):"
       ]
      },
      {
       "output_type": "stream",
       "stream": "stdout",
       "text": [
        " Max/Min/Avg Fitness(Raw) [64.00(64.00)/64.00(64.00)/64.00(64.00)]\n",
        "Gen. 900 (90.00%):"
       ]
      },
      {
       "output_type": "stream",
       "stream": "stdout",
       "text": [
        " Max/Min/Avg Fitness(Raw) [64.00(64.00)/64.00(64.00)/64.00(64.00)]\n",
        "Gen. 950 (95.00%):"
       ]
      },
      {
       "output_type": "stream",
       "stream": "stdout",
       "text": [
        " Max/Min/Avg Fitness(Raw) [64.00(64.00)/64.00(64.00)/64.00(64.00)]\n",
        "Gen. 1000 (100.00%):"
       ]
      },
      {
       "output_type": "stream",
       "stream": "stdout",
       "text": [
        " Max/Min/Avg Fitness(Raw) [64.00(64.00)/64.00(64.00)/64.00(64.00)]\n",
        "Total time elapsed: 8.826 seconds.\n",
        "- GenomeBase\n",
        "\tScore:\t\t\t 64.000000\n",
        "\tFitness:\t\t 64.000000\n",
        "\n",
        "\tParams:\t\t {'rounddecimal': 2, 'bestrawscore': 0}\n",
        "\n",
        "\tSlot [Evaluator] (Count: 1)\n",
        "\t\tName: queens_func - Weight: 0.50\n",
        "\tSlot [Initializator] (Count: 1)\n",
        "\t\tName: queens_init - Weight: 0.50\n",
        "\tSlot [Mutator] (Count: 1)\n",
        "\t\tName: G1DListMutatorSwap - Weight: 0.50\n",
        "\t\tDoc:  The mutator of G1DList, Swap Mutator\n",
        "   \n",
        "   .. note:: this mutator is :term:`Data Type Independent`\n",
        "\n",
        "   \n",
        "\tSlot [Crossover] (Count: 1)\n",
        "\t\tName: G1DListCrossoverCutCrossfill - Weight: 0.50\n",
        "\t\tDoc:  The crossover of G1DList, Cut and crossfill, for permutations\n",
        "   \n",
        "\n",
        "- G1DList\n",
        "\tList size:\t 64\n",
        "\tList:\t\t [0, 1, 1, 0, 1, 1, 1, 1, 0, 0, 0, 0, 0, 0, 0, 0, 0, 0, 0, 0, 0, 1, 0, 0, 0, 0, 0, 0, 0, 0, 0, 0, 0, 0, 0, 0, 0, 0, 0, 0, 1, 0, 0, 0, 0, 0, 0, 0, 0, 0, 0, 0, 0, 0, 0, 1, 0, 0, 0, 0, 0, 0, 0, 1]\n",
        "\n",
        "\n",
        "[0, 0, 0, 0, 0, 1, 0, 0]\n",
        "[1, 0, 0, 0, 0, 0, 0, 0]\n",
        "[1, 0, 0, 0, 0, 0, 0, 0]\n",
        "[0, 0, 0, 0, 0, 0, 0, 0]\n",
        "[1, 0, 0, 0, 0, 0, 0, 0]\n",
        "[1, 0, 1, 0, 0, 0, 0, 0]\n",
        "[1, 0, 0, 0, 0, 0, 0, 0]\n",
        "[1, 0, 0, 0, 0, 0, 1, 1]\n",
        "Best individual score : 64.00\n",
        "\n"
       ]
      },
      {
       "output_type": "stream",
       "stream": "stdout",
       "text": [
        "Gen. 0 (0.00%):"
       ]
      },
      {
       "output_type": "stream",
       "stream": "stdout",
       "text": [
        " Max/Min/Avg Fitness(Raw) [64.00(64.00)/64.00(64.00)/64.00(64.00)]\n",
        "Gen. 1000 (100.00%):"
       ]
      },
      {
       "output_type": "stream",
       "stream": "stdout",
       "text": [
        " Max/Min/Avg Fitness(Raw) [64.00(64.00)/64.00(64.00)/64.00(64.00)]\n",
        "Total time elapsed: 8.838 seconds.\n",
        "- GenomeBase\n",
        "\tScore:\t\t\t 64.000000\n",
        "\tFitness:\t\t 64.000000\n",
        "\n",
        "\tParams:\t\t {'rounddecimal': 2, 'bestrawscore': 0}\n",
        "\n",
        "\tSlot [Evaluator] (Count: 1)\n",
        "\t\tName: queens_func - Weight: 0.50\n",
        "\tSlot [Initializator] (Count: 1)\n",
        "\t\tName: queens_init - Weight: 0.50\n",
        "\tSlot [Mutator] (Count: 1)\n",
        "\t\tName: G1DListMutatorSwap - Weight: 0.50\n",
        "\t\tDoc:  The mutator of G1DList, Swap Mutator\n",
        "   \n",
        "   .. note:: this mutator is :term:`Data Type Independent`\n",
        "\n",
        "   \n",
        "\tSlot [Crossover] (Count: 1)\n",
        "\t\tName: G1DListCrossoverCutCrossfill - Weight: 0.50\n",
        "\t\tDoc:  The crossover of G1DList, Cut and crossfill, for permutations\n",
        "   \n",
        "\n",
        "- G1DList\n",
        "\tList size:\t 64\n",
        "\tList:\t\t [1, 1, 1, 0, 1, 1, 1, 1, 0, 0, 0, 0, 0, 0, 0, 0, 0, 1, 0, 1, 0, 0, 0, 1, 0, 0, 0, 1, 0, 0, 1, 0, 0, 0, 1, 0, 1, 1, 0, 0, 1, 0, 0, 0, 1, 0, 1, 1, 1, 1, 1, 1, 1, 0, 0, 0, 1, 0, 0, 1, 1, 1, 0, 1]\n",
        "\n",
        "\n",
        "[1, 0, 0, 0, 0, 1, 1, 1]\n",
        "[1, 0, 1, 0, 0, 0, 1, 0]\n",
        "[1, 0, 0, 0, 1, 0, 1, 0]\n",
        "[0, 0, 1, 1, 0, 0, 1, 1]\n",
        "[1, 0, 0, 0, 1, 1, 1, 1]\n",
        "[1, 0, 0, 0, 1, 0, 0, 1]\n",
        "[1, 0, 0, 1, 0, 1, 0, 0]\n",
        "[1, 0, 1, 0, 0, 1, 0, 1]\n",
        "Best individual score : 64.00\n",
        "\n"
       ]
      },
      {
       "output_type": "stream",
       "stream": "stdout",
       "text": [
        "Gen. 0 (0.00%):"
       ]
      },
      {
       "output_type": "stream",
       "stream": "stdout",
       "text": [
        " Max/Min/Avg Fitness(Raw) [64.00(64.00)/64.00(64.00)/64.00(64.00)]\n",
        "Gen. 100 (100.00%):"
       ]
      },
      {
       "output_type": "stream",
       "stream": "stdout",
       "text": [
        " Max/Min/Avg Fitness(Raw) [64.00(64.00)/64.00(64.00)/64.00(64.00)]\n",
        "Total time elapsed: 0.893 seconds.\n",
        "- GenomeBase\n",
        "\tScore:\t\t\t 64.000000\n",
        "\tFitness:\t\t 64.000000\n",
        "\n",
        "\tParams:\t\t {'rounddecimal': 2, 'bestrawscore': 0}\n",
        "\n",
        "\tSlot [Evaluator] (Count: 1)\n",
        "\t\tName: queens_func - Weight: 0.50\n",
        "\tSlot [Initializator] (Count: 1)\n",
        "\t\tName: queens_init - Weight: 0.50\n",
        "\tSlot [Mutator] (Count: 1)\n",
        "\t\tName: G1DListMutatorSwap - Weight: 0.50\n",
        "\t\tDoc:  The mutator of G1DList, Swap Mutator\n",
        "   \n",
        "   .. note:: this mutator is :term:`Data Type Independent`\n",
        "\n",
        "   \n",
        "\tSlot [Crossover] (Count: 1)\n",
        "\t\tName: G1DListCrossoverCutCrossfill - Weight: 0.50\n",
        "\t\tDoc:  The crossover of G1DList, Cut and crossfill, for permutations\n",
        "   \n",
        "\n",
        "- G1DList\n",
        "\tList size:\t 64\n",
        "\tList:\t\t [1, 0, 1, 0, 0, 0, 0, 0, 0, 0, 1, 0, 0, 1, 0, 0, 0, 0, 0, 0, 0, 0, 0, 0, 0, 0, 0, 0, 0, 0, 0, 0, 0, 0, 1, 0, 0, 0, 0, 1, 0, 1, 1, 0, 0, 0, 0, 0, 0, 0, 0, 0, 1, 0, 0, 0, 0, 0, 1, 0, 0, 0, 0, 0]\n",
        "\n",
        "\n",
        "[1, 0, 0, 0, 0, 0, 0, 0]\n",
        "[0, 0, 0, 0, 0, 1, 0, 0]\n",
        "[1, 1, 0, 0, 1, 1, 0, 1]\n",
        "[0, 0, 0, 0, 0, 0, 0, 0]\n",
        "[0, 0, 0, 0, 0, 0, 1, 0]\n",
        "[0, 1, 0, 0, 0, 0, 0, 0]\n",
        "[0, 0, 0, 0, 0, 0, 0, 0]\n",
        "[0, 0, 0, 0, 1, 0, 0, 0]\n",
        "Best individual score : 64.00\n",
        "\n"
       ]
      },
      {
       "output_type": "stream",
       "stream": "stdout",
       "text": [
        "Gen. 0 (0.00%):"
       ]
      },
      {
       "output_type": "stream",
       "stream": "stdout",
       "text": [
        " Max/Min/Avg Fitness(Raw) [64.00(64.00)/64.00(64.00)/64.00(64.00)]\n",
        "Gen. 100 (100.00%):"
       ]
      },
      {
       "output_type": "stream",
       "stream": "stdout",
       "text": [
        " Max/Min/Avg Fitness(Raw) [64.00(64.00)/64.00(64.00)/64.00(64.00)]\n",
        "Total time elapsed: 0.868 seconds.\n",
        "- GenomeBase\n",
        "\tScore:\t\t\t 64.000000\n",
        "\tFitness:\t\t 64.000000\n",
        "\n",
        "\tParams:\t\t {'rounddecimal': 2, 'bestrawscore': 0}\n",
        "\n",
        "\tSlot [Evaluator] (Count: 1)\n",
        "\t\tName: queens_func - Weight: 0.50\n",
        "\tSlot [Initializator] (Count: 1)\n",
        "\t\tName: queens_init - Weight: 0.50\n",
        "\tSlot [Mutator] (Count: 1)\n",
        "\t\tName: G1DListMutatorSwap - Weight: 0.50\n",
        "\t\tDoc:  The mutator of G1DList, Swap Mutator\n",
        "   \n",
        "   .. note:: this mutator is :term:`Data Type Independent`\n",
        "\n",
        "   \n",
        "\tSlot [Crossover] (Count: 1)\n",
        "\t\tName: G1DListCrossoverCutCrossfill - Weight: 0.50\n",
        "\t\tDoc:  The crossover of G1DList, Cut and crossfill, for permutations\n",
        "   \n",
        "\n",
        "- G1DList\n",
        "\tList size:\t 64\n",
        "\tList:\t\t [0, 0, 0, 0, 1, 1, 1, 1, 0, 0, 1, 0, 1, 0, 0, 1, 1, 0, 1, 1, 1, 1, 0, 0, 0, 1, 0, 1, 1, 1, 1, 1, 0, 1, 1, 1, 1, 1, 1, 1, 1, 0, 1, 1, 1, 1, 1, 1, 1, 1, 0, 0, 1, 1, 0, 1, 0, 0, 0, 0, 1, 1, 1, 1]\n",
        "\n",
        "\n",
        "[0, 0, 1, 0, 0, 1, 1, 0]\n",
        "[0, 0, 0, 1, 1, 0, 1, 0]\n",
        "[0, 1, 1, 0, 1, 1, 0, 0]\n",
        "[0, 0, 1, 1, 1, 1, 0, 0]\n",
        "[1, 1, 1, 1, 1, 1, 1, 1]\n",
        "[1, 0, 1, 1, 1, 1, 1, 1]\n",
        "[1, 0, 0, 1, 1, 1, 0, 1]\n",
        "[1, 1, 0, 1, 1, 1, 1, 1]\n",
        "Best individual score : 64.00\n",
        "\n"
       ]
      }
     ],
     "prompt_number": 5
    },
    {
     "cell_type": "code",
     "collapsed": false,
     "input": [],
     "language": "python",
     "metadata": {},
     "outputs": []
    }
   ],
   "metadata": {}
  }
 ]
}