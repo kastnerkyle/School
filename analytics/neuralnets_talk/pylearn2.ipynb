{
 "metadata": {
  "name": ""
 },
 "nbformat": 3,
 "nbformat_minor": 0,
 "worksheets": [
  {
   "cells": [
    {
     "cell_type": "markdown",
     "metadata": {},
     "source": [
      "Pylearn2 is powerful toolkit for deep deural networks, developed by students at the University of Montreal. This is the same place that wrote the http://deeplearning.net/tutorial/ , so expect to see a lot of similarity in the codebases. There are several tutorials we will review in class, which can be found in the pylearn2 source code, in the directory:\n",
      "\n",
      "```pylearn2/pylearn2/scripts/tutorials```\n",
      "\n",
      "To get set up for these tutorials, we will need to install a few datasets. Go to this link http://yann.lecun.com/exdb/mnist/\n",
      "and get all four of the .gz files. Copy these files into a new directory ```~/pylearn2_data/mnist/```, then run the gunzip command on each file in the mnist directory. Now the mnist data should be ready to go!"
     ]
    },
    {
     "cell_type": "code",
     "collapsed": false,
     "input": [],
     "language": "python",
     "metadata": {},
     "outputs": []
    }
   ],
   "metadata": {}
  }
 ]
}