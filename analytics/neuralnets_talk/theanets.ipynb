{
 "metadata": {
  "name": ""
 },
 "nbformat": 3,
 "nbformat_minor": 0,
 "worksheets": [
  {
   "cells": [
    {
     "cell_type": "markdown",
     "metadata": {},
     "source": [
      "THEANETS\n",
      "--------\n",
      "Leif Johnson, at the University of Texas developed this library. It is a little more \"black-box\" than the pylearn2 library,\n",
      "and it is also very extendable, readable, and hackable. I tend to use this library the most, though each library has a different set of strengths. This library also has the basics for recurrent neural networks.\n"
     ]
    },
    {
     "cell_type": "code",
     "collapsed": false,
     "input": [],
     "language": "python",
     "metadata": {},
     "outputs": []
    }
   ],
   "metadata": {}
  }
 ]
}