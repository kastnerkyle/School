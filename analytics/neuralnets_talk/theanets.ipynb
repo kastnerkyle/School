{
 "metadata": {
  "name": ""
 },
 "nbformat": 3,
 "nbformat_minor": 0,
 "worksheets": [
  {
   "cells": [
    {
<<<<<<< HEAD
=======
     "cell_type": "markdown",
     "metadata": {},
     "source": [
      "THEANETS\n",
      "--------\n",
      "Leif Johnson, at the University of Texas developed this library. It is a little more \"black-box\" than the pylearn2 library,\n",
      "and it is also very extendable, readable, and hackable. I tend to use this library the most, though each library has a different set of strengths. This library also has the basics for recurrent neural networks.\n"
     ]
    },
    {
>>>>>>> 6f3133f48bbcec52f265a8b0449872d7aa62ba9e
     "cell_type": "code",
     "collapsed": false,
     "input": [],
     "language": "python",
     "metadata": {},
     "outputs": []
    }
   ],
   "metadata": {}
  }
 ]
}