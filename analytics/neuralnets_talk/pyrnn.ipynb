{
 "metadata": {
  "name": ""
 },
 "nbformat": 3,
 "nbformat_minor": 0,
 "worksheets": [
  {
   "cells": [
    {
     "cell_type": "markdown",
     "metadata": {},
     "source": [
      "To be continued... this will be a Python wrapper for Alex Graves' RNNLIB.\n",
      "\n",
      "A cool demo is available at this link http://www.cs.toronto.edu/~graves/handwriting.html"
     ]
    }
   ],
   "metadata": {}
  }
 ]
}