{
 "metadata": {
  "name": ""
 },
 "nbformat": 3,
 "nbformat_minor": 0,
 "worksheets": [
  {
   "cells": [
    {
     "cell_type": "markdown",
     "metadata": {},
     "source": [
      "THEANO\n",
      "------\n",
      "Theano is a mathematical toolkit that can run on the GPU or the CPU. It does automatic differentiation, and uses graph based optimizations to make mathematical code faster. To use pylearn2 or theanets, the latest version of Theano is required. Install the latest version, type\n",
      "\n",
      "```pip install https://github.com/Theano/Theano/tarball/master```\n",
      "\n",
      "in your terminal. This will get the latest version of Theano and install it.\n"
     ]
    },
    {
     "cell_type": "markdown",
     "metadata": {},
     "source": [
      "ENVIRONMENT\n",
      "-----------\n",
      "Once the install process is complete, make sure to add a ```THEANO_FLAGS``` environment variable. In Linux, you can add this line to ~/.bashrc\n",
      "\n",
      "```export THEANO_FLAGS=\"floatX=float32,device=cpu\"```\n",
      "\n",
      "Changing the device to gpu0 will use CUDA instead, if you have installed the NVidia CUDA toolkit."
     ]
    },
    {
     "cell_type": "markdown",
     "metadata": {},
     "source": [
      "Additional Notes\n",
      "----------------\n",
      "If you are using a cpu device, you will also want to install the LAPACK and ATLAS packages. In Ubuntu, this is as easy as\n",
      "\n",
      "```sudo apt-get install libatlas-dev liblapack-dev```"
     ]
    },
    {
     "cell_type": "code",
     "collapsed": false,
     "input": [],
     "language": "python",
     "metadata": {},
     "outputs": []
    }
   ],
   "metadata": {}
  }
 ]
}